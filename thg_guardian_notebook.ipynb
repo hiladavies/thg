{
 "cells": [
  {
   "cell_type": "markdown",
   "id": "ac4b7224-a948-49e9-9096-8388bbdd6171",
   "metadata": {},
   "source": [
    "# **VAD Comparison between 'The Hunger Games' novels and 'The Guardian' articles on Student Protest (2014-2025)**\n",
    "\n",
    "**GitHub Repository Link:** https://github.com/hiladavies/thg\n",
    "\n",
    "This notebook will explore the linguistic relationship between 'The Hunger Games' novels (Suzanne Collins) and 'The Guardian' articles about student protests from 2014-2025. Specifically, it will analyse whether there is a stastically relevant relationship between the two corpuses, using cosine similarity and VAD comparison. It will aim to ascertain the nature of this relationship to draw qualitative insights from the NLP methods.\n",
    "\n",
    "This analysis is grounded in existing qualitative research conducted by the author on the impact of YA Dystopian Fiction, specifically 'The Hunger Games' novels, on the cultural vernacular of Gen Z. Previous study has found evidence that the novels are used by young people as a sense-making tool, particularly when describing socio-political changes. It suggests that its use as a sense-making tool is also mobilising youth and inspiring youth social action. \n",
    "\n",
    "Within this context, this study aims to complement existing research by analysing the relationship between fictional expressions of resistance in Collins’s novels and real-world youth protest discourse as reported by 'The Guardian'. It is important to consider 'The Guardian' articles as a separate audience to those involved in existing study as the writers of this discourse are not Gen Z. Therefore, analysis will show whether the novels' cultural influence has expanded this organic audience to effect mainstream linguistic descriptions of youth protest.\n"
   ]
  },
  {
   "cell_type": "markdown",
   "id": "c03bf41e-9438-48ba-9487-eeaa12764bd9",
   "metadata": {},
   "source": [
    "## **The Dataset**\n",
    "The dataset for this study consists of two corpuses for comparison, and a pre-made VAD Lexicon.\n",
    "\n",
    "**Hunger Games Quotes (`hg_quotes.csv`)**\n",
    "A hand‐curated corpus of 267 key resistance‐themed lines from 'The Hunger Games' novels. The quotes were chosen through close literary reading using Barthes’s five codes, ensuring each line highlights culturally resonant themes of resistance rather than just plot details, aiming to reflect real-world protest discourse. Each row represents one quote, with columns for:\n",
    "- `quote_text`: the full text of the line\n",
    "- `speaker`: character who says the line\n",
    "- `book`: which novel it appears in\n",
    "- `chapter`: the chapter number\n",
    "- `code`: the cultural code (Barthes) it has been assigned\n",
    "\n",
    "**Guardian Protest Articles (`guardian_articles.csv`)**\n",
    "A collection of 3000 news stories from 'The Guardian' collected through a scrape of 'The Guardian' Open Platform (https://open-platform.theguardian.com). Parameters included only English articles, that matched the search term of `student protests OR youth protests OR campus protest OR climate strike`. Articles were scraped from 2014 as this was the oldest records available. Each record contains:\n",
    "- `title`: the article headline\n",
    "- `section`: the section it was published in\n",
    "- `date`: publication date\n",
    "- `url`: original article link\n",
    "- `byine`: article author\n",
    "- `trailtext`: sub-heading\n",
    "- `body`: raw HTML‐style article text\n",
    "\n",
    "**VAD Lexicon (`vad.csv`)**\n",
    "A psycholinguistic lookup table of ~20,000 English words, mapping each lowercased token to its mean Valence, Arousal, and Dominance scores. This allows us to compute and compare emotional profiles of both the quotes and the news articles.\n"
   ]
  },
  {
   "cell_type": "code",
   "execution_count": 1,
   "id": "313079c5-2eda-43fe-a3d4-405c01d994d7",
   "metadata": {},
   "outputs": [
    {
     "name": "stdout",
     "output_type": "stream",
     "text": [
      "Collecting en-core-web-sm==3.8.0\n",
      "  Downloading https://github.com/explosion/spacy-models/releases/download/en_core_web_sm-3.8.0/en_core_web_sm-3.8.0-py3-none-any.whl (12.8 MB)\n",
      "\u001b[2K     \u001b[90m━━━━━━━━━━━━━━━━━━━━━━━━━━━━━━━━━━━━━━━━\u001b[0m \u001b[32m12.8/12.8 MB\u001b[0m \u001b[31m79.3 MB/s\u001b[0m eta \u001b[36m0:00:00\u001b[0m\n",
      "\u001b[?25hInstalling collected packages: en-core-web-sm\n",
      "Successfully installed en-core-web-sm-3.8.0\n",
      "\n",
      "\u001b[1m[\u001b[0m\u001b[34;49mnotice\u001b[0m\u001b[1;39;49m]\u001b[0m\u001b[39;49m A new release of pip is available: \u001b[0m\u001b[31;49m24.3.1\u001b[0m\u001b[39;49m -> \u001b[0m\u001b[32;49m25.1.1\u001b[0m\n",
      "\u001b[1m[\u001b[0m\u001b[34;49mnotice\u001b[0m\u001b[1;39;49m]\u001b[0m\u001b[39;49m To update, run: \u001b[0m\u001b[32;49mpip install --upgrade pip\u001b[0m\n",
      "\u001b[38;5;2m✔ Download and installation successful\u001b[0m\n",
      "You can now load the package via spacy.load('en_core_web_sm')\n"
     ]
    }
   ],
   "source": [
    "import pandas as pd\n",
    "import requests\n",
    "import io\n",
    "import spacy\n",
    "!python -m spacy download en_core_web_sm"
   ]
  },
  {
   "cell_type": "code",
   "execution_count": 2,
   "id": "f6e640c5-48b0-40b2-abe6-a44f498fc1f0",
   "metadata": {},
   "outputs": [
    {
     "name": "stderr",
     "output_type": "stream",
     "text": [
      "[nltk_data] Downloading package punkt_tab to /home/jovyan/nltk_data...\n",
      "[nltk_data]   Package punkt_tab is already up-to-date!\n",
      "[nltk_data] Downloading package stopwords to /home/jovyan/nltk_data...\n",
      "[nltk_data]   Package stopwords is already up-to-date!\n"
     ]
    }
   ],
   "source": [
    "nlp = spacy.load(\"en_core_web_sm\")\n",
    "import re\n",
    "import seaborn as sns\n",
    "sns.set()\n",
    "from sklearn.feature_extraction.text import TfidfVectorizer\n",
    "from sklearn.decomposition import PCA\n",
    "from sklearn.cluster import AgglomerativeClustering\n",
    "from sklearn.cluster import KMeans\n",
    "from IPython.display import IFrame\n",
    "import plotly.express as px\n",
    "from sklearn.metrics.pairwise import cosine_distances\n",
    "from sklearn.metrics.pairwise import pairwise_distances\n",
    "from sklearn.cluster import AffinityPropagation\n",
    "from scipy.spatial import distance\n",
    "from IPython.display import IFrame\n",
    "\n",
    "\n",
    "import nltk\n",
    "nltk.download('punkt_tab')\n",
    "from nltk.stem import WordNetLemmatizer\n",
    "lemmatizer = WordNetLemmatizer()\n",
    "from nltk import word_tokenize\n",
    "nltk.download('stopwords')\n",
    "from nltk.corpus import stopwords\n",
    "stops = set(stopwords.words('english'))\n",
    "import string\n",
    "punct = list(string.punctuation)\n",
    "from nltk.tokenize import word_tokenize"
   ]
  },
  {
   "cell_type": "code",
   "execution_count": 3,
   "id": "0b306866-3c64-4af3-92c1-410dfdfdbc30",
   "metadata": {},
   "outputs": [
    {
     "name": "stdout",
     "output_type": "stream",
     "text": [
      "<class 'pandas.core.frame.DataFrame'>\n"
     ]
    }
   ],
   "source": [
    "# Load THG quotes\n",
    "df_quotes = pd.read_csv(\"thg_quotes.csv\")\n",
    "print(type(df_quotes))\n",
    "quotes = df_quotes['quote_text'].tolist()"
   ]
  },
  {
   "cell_type": "code",
   "execution_count": 4,
   "id": "f714c031-7f49-434a-b7d1-028aec74a0d3",
   "metadata": {},
   "outputs": [
    {
     "data": {
      "text/html": [
       "<div>\n",
       "<style scoped>\n",
       "    .dataframe tbody tr th:only-of-type {\n",
       "        vertical-align: middle;\n",
       "    }\n",
       "\n",
       "    .dataframe tbody tr th {\n",
       "        vertical-align: top;\n",
       "    }\n",
       "\n",
       "    .dataframe thead th {\n",
       "        text-align: right;\n",
       "    }\n",
       "</style>\n",
       "<table border=\"1\" class=\"dataframe\">\n",
       "  <thead>\n",
       "    <tr style=\"text-align: right;\">\n",
       "      <th></th>\n",
       "      <th>quote_text</th>\n",
       "      <th>speaker</th>\n",
       "      <th>chapter</th>\n",
       "      <th>book</th>\n",
       "      <th>code</th>\n",
       "    </tr>\n",
       "  </thead>\n",
       "  <tbody>\n",
       "    <tr>\n",
       "      <th>261</th>\n",
       "      <td>\"But the Hunger Games are their weapon and you...</td>\n",
       "      <td>Katniss</td>\n",
       "      <td>26</td>\n",
       "      <td>The Hunger Games</td>\n",
       "      <td>Cultural</td>\n",
       "    </tr>\n",
       "    <tr>\n",
       "      <th>262</th>\n",
       "      <td>\"But I do notice they omit the part where I co...</td>\n",
       "      <td>Katniss</td>\n",
       "      <td>27</td>\n",
       "      <td>The Hunger Games</td>\n",
       "      <td>Not applicable</td>\n",
       "    </tr>\n",
       "    <tr>\n",
       "      <th>263</th>\n",
       "      <td>\"Thats when I know that even though both of u...</td>\n",
       "      <td>Katniss</td>\n",
       "      <td>27</td>\n",
       "      <td>The Hunger Games</td>\n",
       "      <td>Semic</td>\n",
       "    </tr>\n",
       "    <tr>\n",
       "      <th>264</th>\n",
       "      <td>\"I suspect Haymitch initially, but then there...</td>\n",
       "      <td>Katniss</td>\n",
       "      <td>27</td>\n",
       "      <td>The Hunger Games</td>\n",
       "      <td>Cultural</td>\n",
       "    </tr>\n",
       "    <tr>\n",
       "      <th>265</th>\n",
       "      <td>\"Its the Capitols way of reminding people th...</td>\n",
       "      <td>Katniss</td>\n",
       "      <td>27</td>\n",
       "      <td>The Hunger Games</td>\n",
       "      <td>Cultural</td>\n",
       "    </tr>\n",
       "  </tbody>\n",
       "</table>\n",
       "</div>"
      ],
      "text/plain": [
       "                                            quote_text  speaker  chapter  \\\n",
       "261  \"But the Hunger Games are their weapon and you...  Katniss       26   \n",
       "262  \"But I do notice they omit the part where I co...  Katniss       27   \n",
       "263  \"Thats when I know that even though both of u...  Katniss       27   \n",
       "264  \"I suspect Haymitch initially, but then there...  Katniss       27   \n",
       "265  \"Its the Capitols way of reminding people th...  Katniss       27   \n",
       "\n",
       "                 book            code  \n",
       "261  The Hunger Games        Cultural  \n",
       "262  The Hunger Games  Not applicable  \n",
       "263  The Hunger Games           Semic  \n",
       "264  The Hunger Games        Cultural  \n",
       "265  The Hunger Games        Cultural  "
      ]
     },
     "execution_count": 4,
     "metadata": {},
     "output_type": "execute_result"
    }
   ],
   "source": [
    "df_quotes.tail()"
   ]
  },
  {
   "cell_type": "markdown",
   "id": "1b324e04-3a1e-486c-959d-6002b59e9c55",
   "metadata": {},
   "source": [
    "## **TF_IDF**"
   ]
  },
  {
   "cell_type": "code",
   "execution_count": 5,
   "id": "78560677-b816-4eb9-9afd-19ae7c61b10b",
   "metadata": {},
   "outputs": [],
   "source": [
    "# Clean quotes and create lemmas\n",
    "\n",
    "stops = set(stopwords.words('english'))\n",
    "punct = set(string.punctuation).union({\"‘\", \"’\", \"“\", \"”\", \"–\", \"—\", \"``\", \"''\"})\n",
    "contraction_frags = {\"'s\", \"n't\", \"'ll\", \"'re\", \"'ve\", \"'m\"}\n",
    "lemmatizer = WordNetLemmatizer()\n",
    "\n",
    "def normalize_quotes(text):\n",
    "    return (text.replace(\"‘\", \"'\")\n",
    "                .replace(\"’\", \"'\")\n",
    "                .replace(\"“\", '\"')\n",
    "                .replace(\"”\", '\"')\n",
    "                .replace(\"\\x92\", \"'\"))\n",
    "\n",
    "def good_tokens(text):\n",
    "    text = normalize_quotes(text)\n",
    "    words = word_tokenize(text)\n",
    "    lemmas = [lemmatizer.lemmatize(w).lower() for w in words]\n",
    "    filtered = [\n",
    "        w for w in lemmas\n",
    "        if w not in stops\n",
    "           and w not in punct\n",
    "           and w not in contraction_frags\n",
    "           and len(w) >= 3\n",
    "    ]\n",
    "    return filtered"
   ]
  },
  {
   "cell_type": "code",
   "execution_count": 6,
   "id": "f1712c40-5c3d-4217-939e-81a358000ec0",
   "metadata": {},
   "outputs": [
    {
     "name": "stdout",
     "output_type": "stream",
     "text": [
      "['minute', 'updated', 'told', 'rumor', 'uprising', 'districts', 'well', 'hunch', 'right', 'would', 'mean', 'almost', 'half', 'district', 'least', 'attempted', 'rebel']\n"
     ]
    }
   ],
   "source": [
    "# Lemmas test\n",
    "print(good_tokens(quotes[67]))"
   ]
  },
  {
   "cell_type": "code",
   "execution_count": 7,
   "id": "6f29d60a-15e2-498c-9b73-492c4eb8e0b6",
   "metadata": {},
   "outputs": [
    {
     "data": {
      "text/html": [
       "<div>\n",
       "<style scoped>\n",
       "    .dataframe tbody tr th:only-of-type {\n",
       "        vertical-align: middle;\n",
       "    }\n",
       "\n",
       "    .dataframe tbody tr th {\n",
       "        vertical-align: top;\n",
       "    }\n",
       "\n",
       "    .dataframe thead th {\n",
       "        text-align: right;\n",
       "    }\n",
       "</style>\n",
       "<table border=\"1\" class=\"dataframe\">\n",
       "  <thead>\n",
       "    <tr style=\"text-align: right;\">\n",
       "      <th></th>\n",
       "      <th>title</th>\n",
       "      <th>section</th>\n",
       "      <th>date</th>\n",
       "      <th>url</th>\n",
       "      <th>byline</th>\n",
       "      <th>trailText</th>\n",
       "      <th>body</th>\n",
       "    </tr>\n",
       "  </thead>\n",
       "  <tbody>\n",
       "    <tr>\n",
       "      <th>2995</th>\n",
       "      <td>Lawyers to refuse criminal cases in protest ag...</td>\n",
       "      <td>Law</td>\n",
       "      <td>2015-06-25T18:55:17Z</td>\n",
       "      <td>https://www.theguardian.com/law/2015/jun/25/la...</td>\n",
       "      <td>Owen Bowcott</td>\n",
       "      <td>Decision by solicitors and barristers in Liver...</td>\n",
       "      <td>&lt;p&gt;Solicitors and barristers in Liverpool are ...</td>\n",
       "    </tr>\n",
       "    <tr>\n",
       "      <th>2996</th>\n",
       "      <td>This trade union bill will undermine our funda...</td>\n",
       "      <td>Opinion</td>\n",
       "      <td>2015-09-10T06:00:12Z</td>\n",
       "      <td>https://www.theguardian.com/commentisfree/2015...</td>\n",
       "      <td>Vince Cable and Frances O'Grady</td>\n",
       "      <td>Britain does not have a strike problem – so wh...</td>\n",
       "      <td>&lt;p&gt;The Conservative &lt;a href=\"http://www.thegua...</td>\n",
       "    </tr>\n",
       "    <tr>\n",
       "      <th>2997</th>\n",
       "      <td>'What happened to Sandy?': protesters tie Sand...</td>\n",
       "      <td>US news</td>\n",
       "      <td>2015-07-18T12:27:42Z</td>\n",
       "      <td>https://www.theguardian.com/us-news/2015/jul/1...</td>\n",
       "      <td>Tom Dart in Hempstead, Texas</td>\n",
       "      <td>Demonstrators question official account that b...</td>\n",
       "      <td>&lt;aside class=\"element element-rich-link elemen...</td>\n",
       "    </tr>\n",
       "    <tr>\n",
       "      <th>2998</th>\n",
       "      <td>Reclaim Australia rallies: protesters clash in...</td>\n",
       "      <td>World news</td>\n",
       "      <td>2015-04-04T05:56:50Z</td>\n",
       "      <td>https://www.theguardian.com/australia-news/201...</td>\n",
       "      <td>Michael Safi and agencies</td>\n",
       "      <td>Former One Nation leader Pauline Hanson tells ...</td>\n",
       "      <td>&lt;p&gt;Hundreds of anti-Islam protesters have clas...</td>\n",
       "    </tr>\n",
       "    <tr>\n",
       "      <th>2999</th>\n",
       "      <td>Unprecedented dust storm sparks protests in we...</td>\n",
       "      <td>World news</td>\n",
       "      <td>2015-02-10T19:33:26Z</td>\n",
       "      <td>https://www.theguardian.com/world/iran-blog/20...</td>\n",
       "      <td>Saeed Kamali Dehghan</td>\n",
       "      <td>Stories of suffocating dust reported to be 66 ...</td>\n",
       "      <td>&lt;p&gt;A suffocating dust storm sweeping across we...</td>\n",
       "    </tr>\n",
       "  </tbody>\n",
       "</table>\n",
       "</div>"
      ],
      "text/plain": [
       "                                                  title     section  \\\n",
       "2995  Lawyers to refuse criminal cases in protest ag...         Law   \n",
       "2996  This trade union bill will undermine our funda...     Opinion   \n",
       "2997  'What happened to Sandy?': protesters tie Sand...     US news   \n",
       "2998  Reclaim Australia rallies: protesters clash in...  World news   \n",
       "2999  Unprecedented dust storm sparks protests in we...  World news   \n",
       "\n",
       "                      date                                                url  \\\n",
       "2995  2015-06-25T18:55:17Z  https://www.theguardian.com/law/2015/jun/25/la...   \n",
       "2996  2015-09-10T06:00:12Z  https://www.theguardian.com/commentisfree/2015...   \n",
       "2997  2015-07-18T12:27:42Z  https://www.theguardian.com/us-news/2015/jul/1...   \n",
       "2998  2015-04-04T05:56:50Z  https://www.theguardian.com/australia-news/201...   \n",
       "2999  2015-02-10T19:33:26Z  https://www.theguardian.com/world/iran-blog/20...   \n",
       "\n",
       "                               byline  \\\n",
       "2995                     Owen Bowcott   \n",
       "2996  Vince Cable and Frances O'Grady   \n",
       "2997     Tom Dart in Hempstead, Texas   \n",
       "2998        Michael Safi and agencies   \n",
       "2999             Saeed Kamali Dehghan   \n",
       "\n",
       "                                              trailText  \\\n",
       "2995  Decision by solicitors and barristers in Liver...   \n",
       "2996  Britain does not have a strike problem – so wh...   \n",
       "2997  Demonstrators question official account that b...   \n",
       "2998  Former One Nation leader Pauline Hanson tells ...   \n",
       "2999  Stories of suffocating dust reported to be 66 ...   \n",
       "\n",
       "                                                   body  \n",
       "2995  <p>Solicitors and barristers in Liverpool are ...  \n",
       "2996  <p>The Conservative <a href=\"http://www.thegua...  \n",
       "2997  <aside class=\"element element-rich-link elemen...  \n",
       "2998  <p>Hundreds of anti-Islam protesters have clas...  \n",
       "2999  <p>A suffocating dust storm sweeping across we...  "
      ]
     },
     "execution_count": 7,
     "metadata": {},
     "output_type": "execute_result"
    }
   ],
   "source": [
    "# Load Guardian articles\n",
    "df_guardian = pd.read_csv(\"guardian_master.csv\")\n",
    "df_guardian.tail()"
   ]
  },
  {
   "cell_type": "code",
   "execution_count": 8,
   "id": "3a4c10be-b4e3-479d-b83e-bd3080d42f2d",
   "metadata": {},
   "outputs": [],
   "source": [
    "# Clean to just include body text\n",
    "guardian_articles = df_guardian['body'].dropna().tolist()"
   ]
  },
  {
   "cell_type": "code",
   "execution_count": 9,
   "id": "09443e98-243d-43a3-84f6-0c00ddc713e2",
   "metadata": {},
   "outputs": [],
   "source": [
    "# Clean body text for guardian_articles\n",
    "import html\n",
    "\n",
    "def strip_html_tags(text):\n",
    "    return re.sub(r'<[^>]+>', '', text)\n",
    "\n",
    "def clean_text_for_tfidf(text):\n",
    "    text = html.unescape(text)\n",
    "    text = re.sub(r'&[a-zA-Z]+;', ' ', text)\n",
    "    text = text.replace(\"\\u00a0\", \" \").replace(\"\\x92\", \"'\")\n",
    "    text = re.sub(r'\\b[a-zA-Z0-9]\\b', ' ', text)\n",
    "    return text\n",
    "\n",
    "nlp_spacy = spacy.load(\n",
    "    \"en_core_web_sm\",\n",
    "    disable=[\"parser\", \"tagger\", \"attribute_ruler\", \"lemmatizer\"]\n",
    ")\n",
    "\n",
    "def remove_named_entities_from_doc(doc):\n",
    "    ents = {(ent.start, ent.end) for ent in doc.ents}\n",
    "    return \" \".join([tok.text for tok in doc if not any(s <= tok.i < e for s, e in ents)])\n",
    "\n",
    "cleaned_guardian = []\n",
    "for doc in nlp_spacy.pipe(\n",
    "        (clean_text_for_tfidf(strip_html_tags(a)) for a in guardian_articles),\n",
    "        batch_size=20,\n",
    "        n_process=2\n",
    "    ):\n",
    "    cleaned_guardian.append(remove_named_entities_from_doc(doc))\n",
    "\n",
    "guardian_articles = cleaned_guardian"
   ]
  },
  {
   "cell_type": "code",
   "execution_count": 10,
   "id": "000aa5d8-1db5-4fc0-a506-30299737c183",
   "metadata": {},
   "outputs": [],
   "source": [
    "import math\n",
    "\n",
    "BATCH_SIZE  = 100\n",
    "PIPE_BATCH  = 20\n",
    "N_PROCESS   = 2\n",
    "\n",
    "cleaned_guardian = []\n",
    "total    = len(guardian_articles)\n",
    "n_batches = math.ceil(total / BATCH_SIZE)\n",
    "\n",
    "for i in range(n_batches):\n",
    "    start = i * BATCH_SIZE\n",
    "    end   = min(start + BATCH_SIZE, total)\n",
    "    chunk = guardian_articles[start:end]\n",
    "\n",
    "    for doc in nlp_spacy.pipe(\n",
    "            (strip_html_tags(a) for a in chunk),\n",
    "            batch_size=PIPE_BATCH,\n",
    "            n_process=N_PROCESS\n",
    "        ):\n",
    "        cleaned_guardian.append(remove_named_entities_from_doc(doc))\n",
    "\n",
    "guardian_articles = cleaned_guardian"
   ]
  },
  {
   "cell_type": "code",
   "execution_count": 11,
   "id": "2bcbad13-ca81-4424-86ea-f7a34b712a1d",
   "metadata": {},
   "outputs": [
    {
     "name": "stdout",
     "output_type": "stream",
     "text": [
      "Police unlawfully spied on children as young as taking part in     climate strike protest in , documents have shown . The previously unseen papers reveal the police were rebuked by the information commissioner ’    office ( ) for video surveillance of the protest , which was attended by children and young people . Ruling the data - gathering unlawful , the watchdog said the force had failed to consider the privacy rights of the children at the protest , and had not considered their entitlement to added data protections in light of their age . The reprimand was issued in but came to light only after     freedom of information request by the civil rights campaign group , which had made     complaint about the surveillance . “ Our complaint and the information commissioner ’    subsequent action sets an important precedent protecting children from unjustified political surveillance , ” said , the director of . “ The police ’    recording of children , peacefully demonstrating about environmental protections , was oppressive , unjustified , unlawful , and     disturbing reflection of how hostile to democratic freedoms the police has become . “ We urge Met commissioner Sir to fulfil his legal duties to protect the public ’    right to protest and ensure vital police resources are never again wasted by spying on children with opinions . ”     Related : ‘ Criminalising our right to protest ’ : green groups ’ anger over public order bill      On , of schoolchildren travelled to to take part in . Part of the wave of youth climate strikes inspired by , the young activist , it was the such protest in in , and of scores taking place in cities around the world . As part of its public order policing response , the deployed evidence - gathering teams equipped with digital camcorders that can livestream to police control rooms , documents showed . Big Brother Watch complained to the after witnessing the officers filming children on the protest . The information commissioner launched an investigation for     potential breach of , which found the had acted unlawfully . In     letter issuing     reprimand to the force , the data protection regulator said it “ did not demonstrate satisfactory compliance with the data protection principle ” , which is that “ the processing of personal data for law enforcement reasons must be lawful and fair ” . Police “ did not demonstrate that overt filming was used proportionately ” , given the young ages of those who took part in the protest , the said , as well as questioning how long the force intended to store the footage . The told the it had made changes over how it deployed evidence gatherers on protests , with senior officers now required to consider the demographic of groups taking part and how use of the tactic might have an impact on them . Data protection documentation had been updated , the approach to the retention of footage reviewed , and     new organisation - wide approach to data protection training implemented , the force said . The force said it regarded filming as “ essential in the prevention and detection of crime , and maintaining public safety and security ” in at least some public order policing operations . “ It can support achieving     de - escalating effect on crowd behaviour , assist in the capture of best evidence during fast - moving events , in addition to informing the decision - making of public order commanders overseeing the policing of an event , ” the spokesperson said . “ Likewise , it can provide transparency and accountability regarding police actions . ” The did not publicise the reprimand when it was issued in .     spokesperson for the watchdog said that in the past it did not routinely publish reprimands , but had begun to do so . , of the organisers of the protest , said the police surveillance was intimidating and anti - democratic . “    was     minor in , and     knew     was taking     risk ,     was taking     risk with my entire future , ” , who is now , said . “ It ’      tactic that ’    very commonly used by police forces to create an image of peaceful protesters , that we are almost this villainous entity . When actually what was happening in , and in all other school strikes where police had an active and intimidating presence , was that we were taking to the streets to protest for our futures . “ We were demanding , rightfully and legally , our right to     safe and secure , equitable and sustainable future . ” , policy and campaigns officer at campaign group , said : “ We all have the right to express ourselves without fear of being surveilled . Although this news is shocking , it is not surprising . Police hostility to protesters is being enabled and encouraged by this government ’    continued and dangerous assault on protest rights . Right now , we ’re seeing the government push through the public order bill which will see the gross expansion of police surveillance practices , especially through the introduction of serious disruption prevention orders . “ Instead , the government must ensure everyone ’    right to protest and right to privacy are protected by rolling back police powers that endanger freedom of expression and stop people from being able to stand up for what they believe in . ”\n"
     ]
    }
   ],
   "source": [
    "print(guardian_articles[10])"
   ]
  },
  {
   "cell_type": "code",
   "execution_count": 12,
   "id": "16492735-5cef-4ff8-bf15-0882c723808a",
   "metadata": {},
   "outputs": [],
   "source": [
    "# Tokenize and lemmatize\n",
    "tokenized_quotes = [good_tokens(q) for q in quotes]\n",
    "tokenized_guardian = [good_tokens(a) for a in guardian_articles]"
   ]
  },
  {
   "cell_type": "code",
   "execution_count": 13,
   "id": "ca1c6cf8-ef01-40a8-8934-3acc6ec8d15a",
   "metadata": {},
   "outputs": [
    {
     "name": "stdout",
     "output_type": "stream",
     "text": [
      "['may', 'bit', 'dramatic', 'news', 'police', 'given', 'power', 'shut', 'protest', 'disruption', 'begin', 'report', 'immediately', 'reminded', 'massacre', 'civil', 'authority', 'killed', 'injured', 'people', 'protesting', 'right', 'vote', 'article', 'follows', 'various', 'report', 'plan', 'limit', 'right', 'strike', 'course', 'founded', 'inception', 'partly', 'related', 'order', 'beacon', 'liberal', 'democracy', 'never', 'wavered', 'noble', 'intent', 'including', 'constantly', 'highlighting', 'vast', 'inequality', 'partly', 'created', 'austerity', 'programme', 'since', 'public', 'servant', 'lost', 'earnings', 'real', 'term', 'late', 'radical', 'anthropologist', 'said', 'important', 'people', 'society', 'paid', 'least', 'people', 'currently', 'striking', 'planning', 'correct', 'identify', 'government', 'public', 'order', 'bill', 'question', 'balance', 'right', 'police', 'need', 'power', 'curtail', 'right', 'protest', 'teach', 'law', 'however', 'surprising', 'draw', 'equivalence', 'right', 'protest', 'right', 'occasionally', 'car', 'journey', 'delayed', 'call', 'freedom', 'movement', 'fundamental', 'right', 'could', 'imagined', 'surely', 'driving', 'car', 'along', 'motorway', 'privileged', 'form', 'movement', 'equivalent', 'entitlement', 'enjoy', 'super', 'fast', 'broadband', 'disruption', 'city', 'street', 'view', 'function', 'street', 'merely', 'mean', 'mobility', 'strip', 'rich', 'historic', 'role', 'civic', 'society', 'street', 'public', 'realm', 'protest', 'take', 'place', 'street', 'nick']\n",
      "['thought', 'widespread', 'rebellion', 'quivering', 'fear', 'excitement']\n"
     ]
    }
   ],
   "source": [
    "# Lemmas test\n",
    "print(good_tokens(guardian_articles[15]))\n",
    "print(good_tokens(quotes[66]))"
   ]
  },
  {
   "cell_type": "code",
   "execution_count": 14,
   "id": "e1244493-dc06-4f0a-9016-f2efee64c969",
   "metadata": {},
   "outputs": [],
   "source": [
    "# Clean lemmas - Guardian\n",
    "\n",
    "def clean_text_for_tfidf(text):\n",
    "    text = re.sub(r'&[a-z]+;', ' ', text)\n",
    "    text = re.sub(r'\\b[a-zA-Z0-9]\\b', ' ', text)\n",
    "    return text\n",
    "\n",
    "from sklearn.feature_extraction.text import TfidfVectorizer\n",
    "\n",
    "vectorizer = TfidfVectorizer(\n",
    "    stop_words='english',\n",
    "    token_pattern=r'\\b[a-zA-Z]{2,}\\b',\n",
    "    min_df=5,\n",
    "    max_df=0.5\n",
    ")"
   ]
  },
  {
   "cell_type": "code",
   "execution_count": 26,
   "id": "532d146f-d999-46af-918b-fc7107334e1a",
   "metadata": {},
   "outputs": [
    {
     "name": "stdout",
     "output_type": "stream",
     "text": [
      "student       0.041172\n",
      "climate       0.030462\n",
      "university    0.026591\n",
      "say           0.022277\n",
      "country       0.021549\n",
      "city          0.019972\n",
      "activist      0.019470\n",
      "officer       0.019053\n",
      "action        0.018882\n",
      "campus        0.018672\n",
      "dtype: float64\n"
     ]
    }
   ],
   "source": [
    "# TF-IDF for 'guardian_articles'\n",
    "\n",
    "tfidf_docs = [\" \".join(tokens) for tokens in tokenized_quotes + tokenized_guardian]\n",
    "\n",
    "tfidf_docs = [clean_text_for_tfidf(doc) for doc in tfidf_docs]\n",
    "\n",
    "X = vectorizer.fit_transform(tfidf_docs)\n",
    "\n",
    "df_tfidf = pd.DataFrame(X.toarray(), columns=vectorizer.get_feature_names_out())\n",
    "\n",
    "n_q = len(quotes)\n",
    "guardian_slice = df_tfidf.iloc[n_q:]\n",
    "avg_score = guardian_slice.mean().sort_values(ascending=False)\n",
    "print(avg_score.head(10))"
   ]
  },
  {
   "cell_type": "markdown",
   "id": "974908b1-ed79-4bcb-a568-697d8d687963",
   "metadata": {},
   "source": [
    "**Average TF-IDF Terms in Guardian Protest Articles**  \n",
    "The TF-IDF analysis highlights the most representative words across 'The Guardian' corpus, with “student”, “climate”, and “university” leading the list, reflecting the essence of the corpus. This also confirms that the scrape has been successful in collecting articles around student/youth protest. The low scores indicate that these words are common across the corpus, and not distinctive."
   ]
  },
  {
   "cell_type": "code",
   "execution_count": 25,
   "id": "a188de5a-da01-4df7-a038-2f46235e3e72",
   "metadata": {},
   "outputs": [
    {
     "name": "stdout",
     "output_type": "stream",
     "text": [
      "Mean Hunger Games quote terms:\n",
      "district     0.035641\n",
      "people       0.027128\n",
      "game         0.022438\n",
      "know         0.018146\n",
      "rebellion    0.017950\n",
      "want         0.017422\n",
      "like         0.016583\n",
      "make         0.015859\n",
      "rebel        0.014349\n",
      "enemy        0.014319\n",
      "dtype: float64\n"
     ]
    },
    {
     "name": "stderr",
     "output_type": "stream",
     "text": [
      "/opt/conda/lib/python3.11/site-packages/sklearn/feature_extraction/text.py:521: UserWarning: The parameter 'token_pattern' will not be used since 'tokenizer' is not None'\n",
      "  warnings.warn(\n"
     ]
    }
   ],
   "source": [
    "# Clean Hunger Games Lemmas\n",
    "from sklearn.feature_extraction.text import TfidfVectorizer, ENGLISH_STOP_WORDS\n",
    "\n",
    "def clean_text_for_tfidf(text):\n",
    "    text = re.sub(r'&[a-zA-Z]+;', ' ', text)\n",
    "    text = re.sub(r'\\b[a-zA-Z0-9]\\b', ' ', text)\n",
    "    return text\n",
    "\n",
    "QUOTE_JUNK = {\n",
    "    'peeta','capitol','panem','snow','katniss','effie','haymitch',\n",
    "    'cato','thresh','clove','coin','prim','avoxes', 'said', 'say', 'saying', 'says'\n",
    "}\n",
    "\n",
    "custom_stop_list = list(set(ENGLISH_STOP_WORDS).union(QUOTE_JUNK))\n",
    "\n",
    "# TF-IDF vectorizer for quotes\n",
    "vectorizer_quotes = TfidfVectorizer(\n",
    "    tokenizer=good_tokens,       \n",
    "    stop_words=custom_stop_list, \n",
    "    min_df=1,                    \n",
    "    max_df=1.0                  \n",
    ")\n",
    "\n",
    "cleaned_quotes = [clean_text_for_tfidf(q) for q in quotes]\n",
    "Xq = vectorizer_quotes.fit_transform(cleaned_quotes)\n",
    "\n",
    "df_quotes_tfidf = pd.DataFrame(\n",
    "    Xq.toarray(),\n",
    "    columns=vectorizer_quotes.get_feature_names_out()\n",
    ")\n",
    "\n",
    "mean_quote_terms = df_quotes_tfidf.mean(axis=0).sort_values(ascending=False).head(10)\n",
    "print(\"Mean Hunger Games quote terms:\")\n",
    "print(mean_quote_terms)"
   ]
  },
  {
   "cell_type": "markdown",
   "id": "41763990-133e-4b8f-bfc9-98c5eb289c36",
   "metadata": {},
   "source": [
    "**Average TF-IDF Terms in The Hunger Games Quotes**  \n",
    "The TF-IDF analysis highlights the terms core to the trilogy's rhetoric around rebellion. Emphasis on `district` and `people` suggest an emphasis on place-based identity and solidarity in relation to resistance. The presence of verbs like `want` and `make` may reflect a sense of, or need for, agency within the quotes. Finally, the use of `like` suggests that many quotes are comparative between two objects. These scores sit in congruence with the cultural codes identified through close reading, particularly around collective action and intentional resistance to authority. \n",
    "\n",
    "**Beyond Raw NLP**  \n",
    "While TF-IDF and cosine similarity surface high-weight terms like “district,” they treat these purely as string tokens, missing their deeper cultural resonance. In a literary close reading, these words carry rich metaphorical meaning, signifying social hierarchy and collective identity in a way that pure statistical methods cannot capture. By combining quantitative NLP with qualitative, context-aware interpretation, we may gain a more complete understanding of how fictional resistance language reflects and refracts real-world protest discourse. "
   ]
  },
  {
   "cell_type": "code",
   "execution_count": 20,
   "id": "e1afce13-b7ad-43ae-b322-9dac9fcec8ca",
   "metadata": {},
   "outputs": [],
   "source": [
    "# Combine token lists\n",
    "combined_tokens = tokenized_quotes + tokenized_guardian\n",
    "\n",
    "docs = [\" \".join(toks) for toks in combined_tokens]\n",
    "\n",
    "def clean_text_for_tfidf(text):\n",
    "    text = re.sub(r'&[a-z]+;', ' ', text)\n",
    "    text = re.sub(r'\\b[a-zA-Z0-9]\\b', ' ', text)\n",
    "    return text\n",
    "\n",
    "docs = [clean_text_for_tfidf(d) for d in docs]\n",
    "\n",
    "ARTICLE_JUNK = {\n",
    "    'said', 'say', 'saying', 'says'\n",
    "}\n",
    "\n",
    "custom_stop_list = list(set(ENGLISH_STOP_WORDS).union(ARTICLE_JUNK))"
   ]
  },
  {
   "cell_type": "markdown",
   "id": "2afa46dd-0cc1-45a2-9e1b-108f9a8c1fab",
   "metadata": {},
   "source": [
    "## **Cosine Analysis**"
   ]
  },
  {
   "cell_type": "code",
   "execution_count": 28,
   "id": "bab7ed93-4566-4c7a-b0a3-56f80ba50ed4",
   "metadata": {},
   "outputs": [
    {
     "name": "stdout",
     "output_type": "stream",
     "text": [
      "Corpus-level cosine similarity: 0.308\n"
     ]
    }
   ],
   "source": [
    "from sklearn.feature_extraction.text import TfidfVectorizer\n",
    "from sklearn.metrics.pairwise     import cosine_similarity\n",
    "import numpy as np\n",
    "\n",
    "vectorizer = TfidfVectorizer(\n",
    "    tokenizer=good_tokens,\n",
    "    stop_words=custom_stop_list,\n",
    "    min_df=5,\n",
    "    max_df=0.5,\n",
    ")\n",
    "X = vectorizer.fit_transform(docs)    \n",
    "\n",
    "n_q = len(tokenized_quotes)\n",
    "X_q = X[:n_q]\n",
    "X_g = X[n_q:]\n",
    "\n",
    "mean_q = X_q.mean(axis=0).A          \n",
    "mean_g = X_g.mean(axis=0).A\n",
    "\n",
    "sim = cosine_similarity(mean_q, mean_g)[0,0]\n",
    "print(f\"Corpus-level cosine similarity: {sim:.3f}\")\n"
   ]
  },
  {
   "cell_type": "markdown",
   "id": "3811d34d-3759-46a8-b33e-baac4c6eeb83",
   "metadata": {},
   "source": [
    "When we collapse all 'The Hunger Games' quotes into a single “average quote” TF-IDF vector and all Guardian protest articles into a single “average article” vector, their cosine similarity is **0.308**. This low-to-moderate score indicates that, while there is some overlap in resistance-related vocabulary between the fictional corpus and real-world protest reporting, the two corpora remain largely distinct in their overall word-usage patterns. Suzanne Collins’s narrative language only modestly intersects with the journalistic terminology of contemporary protest coverage. "
   ]
  },
  {
   "cell_type": "code",
   "execution_count": 30,
   "id": "39d3d6e2-c72a-4525-aad2-7b12288fb4d2",
   "metadata": {},
   "outputs": [
    {
     "name": "stderr",
     "output_type": "stream",
     "text": [
      "/opt/conda/lib/python3.11/site-packages/sklearn/feature_extraction/text.py:521: UserWarning: The parameter 'token_pattern' will not be used since 'tokenizer' is not None'\n",
      "  warnings.warn(\n"
     ]
    },
    {
     "data": {
      "image/png": "[encoded data removed]",
      "text/plain": [
       "<Figure size 800x400 with 1 Axes>"
      ]
     },
     "metadata": {},
     "output_type": "display_data"
    }
   ],
   "source": [
    "# Cosine‐similarity over time\n",
    "df_g = (\n",
    "    df_guardian\n",
    "    .dropna(subset=['body', 'date'])\n",
    "    .reset_index(drop=True)\n",
    ")\n",
    "guardian_articles = df_g['body'].tolist()\n",
    "years_list        = pd.to_datetime(df_g['date']).dt.year.tolist()\n",
    "\n",
    "\n",
    "docs = quotes + guardian_articles\n",
    "vectorizer = TfidfVectorizer(\n",
    "    tokenizer=good_tokens,\n",
    "    stop_words=custom_stop_list,\n",
    "    min_df=5,\n",
    "    max_df=0.5\n",
    "   \n",
    ")\n",
    "X = vectorizer.fit_transform(docs)       \n",
    "\n",
    "n_q        = len(quotes)\n",
    "X_arr      = X.toarray()                \n",
    "X_quotes   = X_arr[:n_q, :]               \n",
    "X_articles = X_arr[n_q:, :]                \n",
    "\n",
    "quote_centroid = X_quotes.mean(axis=0).reshape(1, -1)  # (1 × V)\n",
    "\n",
    "year_to_idxs = defaultdict(list)\n",
    "for idx, yr in enumerate(years_list):\n",
    "    year_to_idxs[yr].append(idx)\n",
    "\n",
    "records = []\n",
    "for yr in sorted(year_to_idxs):\n",
    "    idxs = year_to_idxs[yr]\n",
    "    year_centroid = X_articles[idxs, :].mean(axis=0).reshape(1, -1)\n",
    "    sim = cosine_similarity(quote_centroid, year_centroid)[0, 0]\n",
    "    records.append({'year': yr, 'similarity': sim})\n",
    "\n",
    "sim_df = pd.DataFrame(records)\n",
    "\n",
    "# Plot with Matplotlib\n",
    "plt.figure(figsize=(8, 4))\n",
    "plt.plot(sim_df['year'], sim_df['similarity'], marker='o')\n",
    "plt.title('Cosine Similarity to Hunger Games Quotes by Year')\n",
    "plt.xlabel('Publication Year')\n",
    "plt.ylabel('Cosine Similarity')\n",
    "plt.ylim(0, 1)\n",
    "plt.tight_layout()\n",
    "plt.show()"
   ]
  },
  {
   "cell_type": "markdown",
   "id": "3d453ee5-003c-4842-a51d-b8d3df6b5404",
   "metadata": {},
   "source": [
    "## **Topic Modelling**"
   ]
  },
  {
   "cell_type": "code",
   "execution_count": 31,
   "id": "f4acf06b-0d9d-42c3-b063-7225f2197bb7",
   "metadata": {},
   "outputs": [
    {
     "name": "stderr",
     "output_type": "stream",
     "text": [
      "/opt/conda/lib/python3.11/site-packages/sklearn/feature_extraction/text.py:521: UserWarning: The parameter 'token_pattern' will not be used since 'tokenizer' is not None'\n",
      "  warnings.warn(\n"
     ]
    },
    {
     "name": "stdout",
     "output_type": "stream",
     "text": [
      "Topic 1: climate protest\n",
      "Topic 2: government updated\n",
      "Topic 3: people case\n",
      "Topic 4: people woman\n",
      "Topic 5: police protest\n",
      "Topic 6: student university\n",
      "\n",
      "Average topic proportions by corpus:\n",
      "            Topic 1  Topic 2   Topic 3   Topic 4   Topic 5   Topic 6\n",
      "corpus                                                             \n",
      "Guardian  0.190990  0.10595  0.080383  0.228586  0.266261  0.127829\n",
      "HG        0.057506  0.06379  0.087659  0.643438  0.112437  0.035170\n"
     ]
    }
   ],
   "source": [
    "from sklearn.feature_extraction.text import CountVectorizer\n",
    "from sklearn.decomposition import LatentDirichletAllocation\n",
    "\n",
    "docs = [\" \".join(toks) for toks in tokenized_quotes + tokenized_guardian]\n",
    "\n",
    "count_vect = CountVectorizer(\n",
    "    tokenizer=good_tokens,\n",
    "    stop_words=custom_stop_list, \n",
    "    min_df=5\n",
    ")\n",
    "X_counts = count_vect.fit_transform(docs)\n",
    "\n",
    "n_topics = 6\n",
    "lda = LatentDirichletAllocation(\n",
    "    n_components=n_topics,\n",
    "    max_iter=10,\n",
    "    learning_method='batch',\n",
    "    random_state=0\n",
    ")\n",
    "lda.fit(X_counts)\n",
    "\n",
    "feature_names = count_vect.get_feature_names_out()\n",
    "n_top_words  = 2\n",
    "\n",
    "for ti, comp in enumerate(lda.components_):\n",
    "    terms = [feature_names[i] for i in comp.argsort()[-n_top_words:][::-1]]\n",
    "    print(f\"Topic {ti+1}: {' '.join(terms)}\")\n",
    "\n",
    "doc_topic = lda.transform(X_counts) \n",
    "\n",
    "n_q = len(tokenized_quotes)\n",
    "df_topics = pd.DataFrame(\n",
    "    doc_topic,\n",
    "    columns=[f\"Topic {i+1}\" for i in range(n_topics)]\n",
    ")\n",
    "df_topics['corpus'] = ['HG']*n_q + ['Guardian']*(len(docs)-n_q)\n",
    "\n",
    "topic_summary = df_topics.groupby('corpus').mean()\n",
    "print(\"\\nAverage topic proportions by corpus:\\n\", topic_summary)"
   ]
  },
  {
   "cell_type": "markdown",
   "id": "ee89d9cc-3b22-4eec-b996-0e8a284a37d1",
   "metadata": {},
   "source": [
    "### **Topic Modeling Insights**  \n",
    "By using topic modelling, six latent themes are drawn out:\n",
    "\n",
    "1. **Topic 1 (climate protest)**  \n",
    "2. **Topic 2 (government updated)**  \n",
    "3. **Topic 3 (people case)**  \n",
    "4. **Topic 4 (people woman)**  \n",
    "5. **Topic 5 (police protest)**  \n",
    "6. **Topic 6 (student university)**  \n",
    "\n",
    "When we examine how these themes distribute on average across the two corpora, we see:\n",
    "- **Guardian articles** are more evenly spread across **people-woman**, **police-protest**, and **climate-government themes**, with a moderate focus on student/university coverage. This is especially intriguing considering that the corpus was chosen for its emphasis on student protests, suggesting that the themes of the articles different from their topic.  \n",
    "- **Hunger Games quotes** concentrate heavily on the **people-woman**, with some emphasis on **police-protest**. This reflects the corpus' emphasis on collective action, and its narrator as a female voice. Topic proportions towards direct challenges to authority such as the police and protest are comparatively higher in news coverage. However, we must also consider that terms in the quotes corpus that would reflect themes around policing may use specific terms relating to the fictional world instead ('peacekeepers' etc.), which may not come up during topic-modelling. \n",
    "\n",
    "However, it is important to note that only of the six topics ever dominates more than half the corpus - the quotes and Topic 4. The Guardian articles are more evenly spread (top topics around 20%) while The Hunger Games quotes sit on extreme ends (0.03 - 0.6). As no Guardian proportion is about 26%, it suggests that thematic diversity is high. The low proportions thus illustrate both the multiplicity of protest-related themes and the differing focal points of fictional vs. journalistic discourse. "
   ]
  },
  {
   "cell_type": "markdown",
   "id": "68e70ea2-9983-4dc7-925d-2cbb68631bff",
   "metadata": {},
   "source": [
    "## **VAD Analysis**  \n",
    " \n",
    "With these results in mind, we will now conduct VAD analysis to ascertain whether there is similarity in the Valence, Arousal, or Dominance of the words used, beyond the themes brought out through topic modelling. This will allow us to better understand if there is an emotional similarity between the two corpora."
   ]
  },
  {
   "cell_type": "code",
   "execution_count": 32,
   "id": "7502dfa3-20a7-4f12-a517-bd984fafc2e9",
   "metadata": {},
   "outputs": [
    {
     "name": "stdout",
     "output_type": "stream",
     "text": [
      "              Valence   Arousal  Dominance\n",
      "corpus                                    \n",
      "Guardian     0.544907  0.402201   0.548858\n",
      "HungerGames  0.557024  0.413052   0.550211\n"
     ]
    }
   ],
   "source": [
    "# Compute VAD\n",
    "\n",
    "vad_df = pd.read_csv(\"vad.csv\")\n",
    "vad_df = vad_df.rename(columns={\n",
    "    \"V.Mean.Sum\": \"Valence\",\n",
    "    \"A.Mean.Sum\": \"Arousal\",\n",
    "    \"D.Mean.Sum\": \"Dominance\",\n",
    "    \"Word\": \"word\"\n",
    "})\n",
    "vad_df[\"word\"] = vad_df[\"word\"].str.lower()\n",
    "\n",
    "vad_df = (\n",
    "    vad_df\n",
    "    .groupby(\"word\", as_index=False)[[\"Valence\",\"Arousal\",\"Dominance\"]]\n",
    "    .mean()\n",
    ")\n",
    "\n",
    "vad_dict = vad_df.set_index(\"word\")[[\"Valence\",\"Arousal\",\"Dominance\"]].to_dict(\"index\")\n",
    "\n",
    "def compute_vad(tokens):\n",
    "    scores = [vad_dict[w] for w in tokens if w in vad_dict]\n",
    "    if not scores:\n",
    "        return pd.Series({\"Valence\":None, \"Arousal\":None, \"Dominance\":None})\n",
    "    vals = pd.DataFrame(scores)\n",
    "    return pd.Series({\n",
    "        \"Valence\":   vals[\"Valence\"].mean(),\n",
    "        \"Arousal\":   vals[\"Arousal\"].mean(),\n",
    "        \"Dominance\": vals[\"Dominance\"].mean()\n",
    "    })\n",
    "\n",
    "# Apply to Hunger Games quotes\n",
    "df_quotes[\"tokens\"] = df_quotes[\"quote_text\"].apply(good_tokens)\n",
    "vad_quotes = df_quotes[\"tokens\"].apply(compute_vad)\n",
    "df_quotes = pd.concat([df_quotes, vad_quotes], axis=1)\n",
    "df_quotes[\"corpus\"] = \"HungerGames\"\n",
    "\n",
    "# Apply to Guardian articles\n",
    "df_guardian_vad = pd.DataFrame({\"tokens\": tokenized_guardian})\n",
    "vad_guardian = df_guardian_vad[\"tokens\"].apply(compute_vad)\n",
    "\n",
    "df_guardian_vad = pd.concat([df_guardian.reset_index(drop=True), vad_guardian], axis=1)\n",
    "df_guardian_vad[\"corpus\"] = \"Guardian\"\n",
    "\n",
    "\n",
    "compare_df = pd.concat([\n",
    "    df_quotes[[\"quote_text\",\"corpus\",\"Valence\",\"Arousal\",\"Dominance\"]],\n",
    "    df_guardian_vad[[\"body\",\"corpus\",\"Valence\",\"Arousal\",\"Dominance\"]]\n",
    "        .rename(columns={\"body\":\"text\"})\n",
    "], ignore_index=True)\n",
    "\n",
    "\n",
    "print(compare_df.groupby(\"corpus\")[[\"Valence\",\"Arousal\",\"Dominance\"]].mean())"
   ]
  },
  {
   "cell_type": "code",
   "execution_count": null,
   "id": "5cc08257-1e48-45ae-960e-09182b1be71d",
   "metadata": {},
   "outputs": [],
   "source": [
    "# Plot VAD\n",
    "df_q = (\n",
    "    df_quotes\n",
    "    .rename(columns={'quote_text':'text'})\n",
    "    [['text','corpus','Valence','Arousal','Dominance']]\n",
    ")\n",
    "\n",
    "df_g = (\n",
    "    df_guardian_vad\n",
    "    .rename(columns={'body':'text'})\n",
    "    [['text','corpus','Valence','Arousal','Dominance']]\n",
    ")\n",
    "\n",
    "compare_df = pd.concat([df_q, df_g], ignore_index=True)\n",
    "\n",
    "import plotly.express as px\n",
    "\n",
    "fig = px.scatter_3d(\n",
    "    compare_df,\n",
    "    x='Valence',\n",
    "    y='Arousal',\n",
    "    z='Dominance',\n",
    "    color='corpus',\n",
    "    hover_name='text',    \n",
    "    title='3D VAD Space: Hunger Games Quotes vs. Guardian Articles'\n",
    ")\n",
    "fig.update_traces(marker=dict(size=5,\n",
    "                              line=dict(width=1, color='DarkSlateGrey')))\n",
    "fig.update_layout(margin=dict(l=0, r=0, b=0, t=40))\n",
    "fig.show()"
   ]
  },
  {
   "cell_type": "code",
   "execution_count": null,
   "id": "85f69145-e428-4eeb-a8d3-60b89c1aa35d",
   "metadata": {},
   "outputs": [],
   "source": [
    "# Visualise distributions\n",
    "for dim in [\"Valence\",\"Arousal\",\"Dominance\"]:\n",
    "    plt.figure(figsize=(6,4))\n",
    "    sns.boxplot(data=compare_df, x=\"corpus\", y=dim)\n",
    "    plt.title(f\"{dim} distribution by Corpus\")\n",
    "    plt.show()"
   ]
  },
  {
   "cell_type": "markdown",
   "id": "35edf246-cb07-416d-a3b5-6363077598b8",
   "metadata": {},
   "source": [
    "### **VAD Analysis**\n",
    "\n",
    "Visually, we can see that the Hunger Games quotes have greater VAD diversity than The Guardian articles, in congruence to insights drawn out from topic modelling which showed that the quotes had more thematic variation. Unsuprisingly, the articles have very few outliers, matching assumptions about the uniformity of journalistic style and tone in comparison to fiction. However, it is important to emphasise the linearality between the two corpora using this model - there seems to be a universal language of emotion between the corpora: \n",
    "\n",
    "- **Valence and arousal**: as texts become more positive (higher Valence), they tend to be less emotionally intense (lower Arousal). Conversely, the most rousing, high-arousal passages are also the most negative.  \n",
    "- **Dominance grows with positivity**: more positive quotes (and articles) are also those where speakers or subjects feel more in control.  \n",
    "\n",
    "It also shows that, on average, 'The Hunger Games' quotes are slightly more positive (Valence ≈ 0.557 vs. 0.545) and more emotionally charged (Arousal ≈ 0.413 vs. 0.402) than Guardian protest articles, while both corpora express a nearly identical sense of agency (Dominance ≈ 0.550 vs. 0.549).\n",
    "\n",
    "Valence, arousal, and dominance in journalistic discourse on student protests and fictional depictions of rebellion aren’t independent; they co-vary along a single continuum of “intense negativity” and “calm positivity,” with fiction amplifying both poles more dramatically than journalism. The near‐identical mid‐range Valence (≈0.55) and Dominance (≈0.55) scores for both 'The Hunger Games' quotes and Guardian protest articles indicate a shared emotional register of agency and mild positivity in how resistance is framed. However, the novels exhibit significantly higher Arousal (≈0.413 vs. 0.402) and greater variance in Valence and Arousal, reflecting fiction’s tendency to dramatise rebellion more intensely than journalism. These patterns support a model of selective resonance: while Collins’s narrative rhetoric and real-world reporting draw from the same affective core of resistance, journalistic discourse softens the emotional extremes present in the novels. This duality underscores the need to combine quantitative VAD analysis with qualitative close reading to fully capture how fictional protest language both echoes and diverges from its real-world counterpart. \n"
   ]
  },
  {
   "cell_type": "markdown",
   "id": "40761655-6e1e-409e-ad0a-44ac9136f78c",
   "metadata": {},
   "source": [
    "## **VAD Changes over Time**\n",
    "\n",
    "As our article data spans nearly 10 years, we can use the date of publication information to see whether the VAD of the articles, or their relationship with 'The Hunger Games' has varied at all over time."
   ]
  },
  {
   "cell_type": "code",
   "execution_count": null,
   "id": "bf7d79d8-75d3-4748-86ef-f23c115df0f3",
   "metadata": {},
   "outputs": [],
   "source": [
    "# Clean 'date' column\n",
    "\n",
    "df_guardian['date'] = pd.to_datetime(df_guardian['date'])\n",
    "\n",
    "df_guardian['year'] = df_guardian['date'].dt.year\n",
    "\n",
    "counts = df_guardian['year'].value_counts().sort_index()\n",
    "print(counts)"
   ]
  },
  {
   "cell_type": "markdown",
   "id": "234a20e4-2307-41d0-9ba8-6f6627c4f469",
   "metadata": {},
   "source": [
    "Straight away we can see that some years (2014, 2016, 2018, 2020, and 2022) had significantly less articles. It will be important to keep this in mind when analysing the data. "
   ]
  },
  {
   "cell_type": "code",
   "execution_count": null,
   "id": "9666505f-8159-44c4-8cab-40c4276d4567",
   "metadata": {},
   "outputs": [],
   "source": [
    "# VAD over time for just Guardian corpus\n",
    "\n",
    "df_guardian_vad['date'] = pd.to_datetime(df_guardian_vad['date'])\n",
    "\n",
    "df_guardian_vad['year'] = df_guardian_vad['date'].dt.year\n",
    "\n",
    "yearly_vad = (\n",
    "    df_guardian_vad\n",
    "    .groupby('year')[['Valence','Arousal','Dominance']]\n",
    "    .mean()\n",
    "    .reset_index()\n",
    ")\n",
    "\n",
    "# Plot the trends over time\n",
    "plt.figure(figsize=(10, 6))\n",
    "sns.lineplot(data=yearly_vad, x='year', y='Valence', marker='o', label='Valence')\n",
    "sns.lineplot(data=yearly_vad, x='year', y='Arousal', marker='o', label='Arousal')\n",
    "sns.lineplot(data=yearly_vad, x='year', y='Dominance', marker='o', label='Dominance')\n",
    "plt.title('Mean VAD Scores for Guardian Protest Articles Over Time')\n",
    "plt.xlabel('Publication Year')\n",
    "plt.ylabel('Mean VAD Score')\n",
    "plt.ylim(0, 1)\n",
    "plt.legend()\n",
    "plt.show()\n",
    "\n",
    "# Boxplots to see distribution shifts by year\n",
    "for dim in ['Valence','Arousal','Dominance']:\n",
    "    plt.figure(figsize=(10, 4))\n",
    "    sns.boxplot(data=df_guardian_vad, x='year', y=dim)\n",
    "    plt.title(f'{dim} Distribution by Year')\n",
    "    plt.xlabel('Publication Year')\n",
    "    plt.ylabel(dim)\n",
    "    plt.show()"
   ]
  },
  {
   "cell_type": "markdown",
   "id": "40463563-056f-437a-8ecc-2291a42b0d21",
   "metadata": {},
   "source": [
    "There is an almost indistinguishable difference in the average VAD score overtime for the articles. As the graph shows, there is a slight change in 2018, but this should be disregarded due to the low number of collected articles published in 2018 within the corpus. While we can see that the boxplots show slight differences year by year in the variance of VAD, this likely reflects the natural changes in language in congruence with different political events throughout the time period. "
   ]
  },
  {
   "cell_type": "markdown",
   "id": "f486a748-e837-4eb9-8767-dba3d090b437",
   "metadata": {},
   "source": [
    "## **Conclusions**\n",
    "\n",
    "Through the combination of NLP methods used in this study, several conclusions can be drawn. Firstly, that while the novels and the articles may have little lexical overlap, their semantic overlap may be much higher. However, to draw out these semantic conclusions, close-text, qualitative methods such as Barthes' 5 cultural codes are better equipped to draw out similarity in meaning. While topic modelling suggests that only themes around students and protest are present in the quote corpus, a closer understanding of the metaphprical and allegorical meaning of terms used in the corpus may suggest different themes, possibly with a higher similarity to the article corpus. The similarity in VAD scores between the two corpora further this hypothesis, as it reveals how the pathos between them are highly similar. Therefore, in answering the question around the relationship between YA dystopian fiction and mainstream reporting of youth protest, this analysis is the most relevant as it captures the similar essence between the corpora. However, it confirms that this relationship may be less tangible than hypothesised. By analysing both cosine similarity and VAD changes over time, we can see that there is little variance, in high contrast with the use of YA dystopian fiction as a sense-making tool for young people which has increased exponentially since 2020. Therefore, this reveals that the relationship may be more complex, and thus, conclusive insights cannot be drawn from using exclusively these results.\n",
    "\n",
    "Further investigation may therefore benefit by using a mixed-methods approach, leaning into more qualitative methods to draw clearer conclusions from the NLP. It may also be necessary to widen the corpora, including different mainstream media sources that adopt varying journalistic tones to confirm conclusively the impact of journalistic discourse on the cosine disparity. "
   ]
  }
 ],
 "metadata": {
  "kernelspec": {
   "display_name": "Python 3 (ipykernel)",
   "language": "python",
   "name": "python3"
  },
  "language_info": {
   "codemirror_mode": {
    "name": "ipython",
    "version": 3
   },
   "file_extension": ".py",
   "mimetype": "text/x-python",
   "name": "python",
   "nbconvert_exporter": "python",
   "pygments_lexer": "ipython3",
   "version": "3.11.6"
  }
 },
 "nbformat": 4,
 "nbformat_minor": 5
}
